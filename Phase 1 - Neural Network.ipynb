{
  "nbformat": 4,
  "nbformat_minor": 0,
  "metadata": {
    "accelerator": "GPU",
    "colab": {
      "name": "Phase 1 - Neural Network.ipynb",
      "provenance": [],
      "collapsed_sections": []
    },
    "kernelspec": {
      "display_name": "Python 3",
      "language": "python",
      "name": "python3"
    },
    "language_info": {
      "codemirror_mode": {
        "name": "ipython",
        "version": 3
      },
      "file_extension": ".py",
      "mimetype": "text/x-python",
      "name": "python",
      "nbconvert_exporter": "python",
      "pygments_lexer": "ipython3",
      "version": "3.6.9"
    }
  },
  "cells": [
    {
      "cell_type": "markdown",
      "metadata": {
        "colab_type": "text",
        "id": "IG4DleWZg-2m"
      },
      "source": [
        "### **1. Load Data**"
      ]
    },
    {
      "cell_type": "code",
      "metadata": {
        "colab_type": "code",
        "id": "G0V_IbcEL8Mt",
        "colab": {}
      },
      "source": [
        "import pandas as pd\n",
        "import numpy as np\n",
        "\n",
        "import warnings\n",
        "warnings.filterwarnings(\"ignore\")\n",
        "\n",
        "import pickle\n",
        "from collections import defaultdict\n",
        "import re\n",
        "import sys\n",
        "import os\n",
        "os.environ['KERAS_BACKEND']='theano' # Why theano why not\n",
        "from tensorflow.keras.preprocessing.text import Tokenizer\n",
        "from tensorflow.keras.preprocessing.sequence import pad_sequences\n",
        "from tensorflow.keras.utils import to_categorical\n",
        "from tensorflow.keras.layers import Embedding\n",
        "from tensorflow.keras.layers import Dense, Input, Flatten\n",
        "from tensorflow.keras.layers import Conv1D, MaxPooling1D, Embedding, Dropout\n",
        "from tensorflow.keras.models import Model\n",
        "from tensorflow.keras.callbacks import ModelCheckpoint\n",
        "import matplotlib.pyplot as plt\n",
        "plt.switch_backend('agg')\n",
        "%matplotlib inline"
      ],
      "execution_count": 0,
      "outputs": []
    },
    {
      "cell_type": "code",
      "metadata": {
        "id": "8VJT6eau09E_",
        "colab_type": "code",
        "colab": {}
      },
      "source": [
        "from __future__ import print_function\n",
        "import numpy as np\n",
        "import pandas as pd\n",
        "import pickle\n",
        "from collections import defaultdict\n",
        "import re\n",
        "from bs4 import BeautifulSoup\n",
        "import sys\n",
        "import os\n",
        "os.environ['KERAS_BACKEND']='theano' # Why theano why not\n",
        "from tensorflow.keras.preprocessing.text import Tokenizer\n",
        "from tensorflow.keras.preprocessing.sequence import pad_sequences\n",
        "from tensorflow.keras.utils import to_categorical\n",
        "from tensorflow.keras.layers import Embedding\n",
        "from tensorflow.keras.layers import Dense, Input, Flatten\n",
        "from tensorflow.keras.layers import Conv1D, MaxPooling1D, Embedding, Dropout\n",
        "from tensorflow.keras.models import Model\n",
        "from tensorflow.keras.callbacks import ModelCheckpoint\n",
        "import matplotlib.pyplot as plt\n",
        "plt.switch_backend('agg')\n",
        "%matplotlib inline\n",
        "\n",
        "\n",
        "\n",
        "from tensorflow.keras.preprocessing import sequence\n",
        "from tensorflow.keras.models import Sequential\n",
        "from tensorflow.keras.layers import Dense, Dropout,Activation\n",
        "from tensorflow.keras.layers import Embedding\n",
        "from tensorflow.keras.layers import Conv1D, GlobalMaxPooling1D\n",
        "from tensorflow.keras.datasets import imdb\n",
        "from tensorflow.keras.callbacks import EarlyStopping"
      ],
      "execution_count": 0,
      "outputs": []
    },
    {
      "cell_type": "code",
      "metadata": {
        "colab_type": "code",
        "id": "gh893z9FMVrU",
        "outputId": "5d9dd51b-8c8b-426b-8a55-31136525faba",
        "colab": {
          "base_uri": "https://localhost:8080/",
          "height": 297
        }
      },
      "source": [
        "food_df = pd.read_csv(r'C:\\Users\\liewm\\Documents\\BT4221 Big Data\\Project\\food_df.csv')\n",
        "food_df = food_df.drop('Unnamed: 0', axis=1)\n",
        "food_df.head()"
      ],
      "execution_count": 0,
      "outputs": [
        {
          "output_type": "execute_result",
          "data": {
            "text/html": [
              "<div>\n",
              "<style scoped>\n",
              "    .dataframe tbody tr th:only-of-type {\n",
              "        vertical-align: middle;\n",
              "    }\n",
              "\n",
              "    .dataframe tbody tr th {\n",
              "        vertical-align: top;\n",
              "    }\n",
              "\n",
              "    .dataframe thead th {\n",
              "        text-align: right;\n",
              "    }\n",
              "</style>\n",
              "<table border=\"1\" class=\"dataframe\">\n",
              "  <thead>\n",
              "    <tr style=\"text-align: right;\">\n",
              "      <th></th>\n",
              "      <th>Id</th>\n",
              "      <th>ProductId</th>\n",
              "      <th>UserId</th>\n",
              "      <th>ProfileName</th>\n",
              "      <th>HelpfulnessNumerator</th>\n",
              "      <th>HelpfulnessDenominator</th>\n",
              "      <th>Score</th>\n",
              "      <th>Time</th>\n",
              "      <th>Summary</th>\n",
              "      <th>Text</th>\n",
              "      <th>Score Class</th>\n",
              "      <th>Text_processed</th>\n",
              "    </tr>\n",
              "  </thead>\n",
              "  <tbody>\n",
              "    <tr>\n",
              "      <td>0</td>\n",
              "      <td>1</td>\n",
              "      <td>B001E4KFG0</td>\n",
              "      <td>A3SGXH7AUHU8GW</td>\n",
              "      <td>delmartian</td>\n",
              "      <td>1</td>\n",
              "      <td>1</td>\n",
              "      <td>5</td>\n",
              "      <td>1303862400</td>\n",
              "      <td>Good Quality Dog Food</td>\n",
              "      <td>I have bought several of the Vitality canned d...</td>\n",
              "      <td>Positive</td>\n",
              "      <td>buy several vitality can dog food product find...</td>\n",
              "    </tr>\n",
              "    <tr>\n",
              "      <td>1</td>\n",
              "      <td>2</td>\n",
              "      <td>B00813GRG4</td>\n",
              "      <td>A1D87F6ZCVE5NK</td>\n",
              "      <td>dll pa</td>\n",
              "      <td>0</td>\n",
              "      <td>0</td>\n",
              "      <td>1</td>\n",
              "      <td>1346976000</td>\n",
              "      <td>Not as Advertised</td>\n",
              "      <td>Product arrived labeled as Jumbo Salted Peanut...</td>\n",
              "      <td>Negative</td>\n",
              "      <td>product arrive label jumbo salt peanutsthe pea...</td>\n",
              "    </tr>\n",
              "    <tr>\n",
              "      <td>2</td>\n",
              "      <td>3</td>\n",
              "      <td>B000LQOCH0</td>\n",
              "      <td>ABXLMWJIXXAIN</td>\n",
              "      <td>Natalia Corres \"Natalia Corres\"</td>\n",
              "      <td>1</td>\n",
              "      <td>1</td>\n",
              "      <td>4</td>\n",
              "      <td>1219017600</td>\n",
              "      <td>\"Delight\" says it all</td>\n",
              "      <td>This is a confection that has been around a fe...</td>\n",
              "      <td>Positive</td>\n",
              "      <td>confection century light pillowy citrus gelati...</td>\n",
              "    </tr>\n",
              "    <tr>\n",
              "      <td>3</td>\n",
              "      <td>4</td>\n",
              "      <td>B000UA0QIQ</td>\n",
              "      <td>A395BORC6FGVXV</td>\n",
              "      <td>Karl</td>\n",
              "      <td>3</td>\n",
              "      <td>3</td>\n",
              "      <td>2</td>\n",
              "      <td>1307923200</td>\n",
              "      <td>Cough Medicine</td>\n",
              "      <td>If you are looking for the secret ingredient i...</td>\n",
              "      <td>Negative</td>\n",
              "      <td>look secret ingredient robitussin believe find...</td>\n",
              "    </tr>\n",
              "    <tr>\n",
              "      <td>4</td>\n",
              "      <td>5</td>\n",
              "      <td>B006K2ZZ7K</td>\n",
              "      <td>A1UQRSCLF8GW1T</td>\n",
              "      <td>Michael D. Bigham \"M. Wassir\"</td>\n",
              "      <td>0</td>\n",
              "      <td>0</td>\n",
              "      <td>5</td>\n",
              "      <td>1350777600</td>\n",
              "      <td>Great taffy</td>\n",
              "      <td>Great taffy at a great price.  There was a wid...</td>\n",
              "      <td>Positive</td>\n",
              "      <td>great taffy great price wide assortment yummy ...</td>\n",
              "    </tr>\n",
              "  </tbody>\n",
              "</table>\n",
              "</div>"
            ],
            "text/plain": [
              "   Id   ProductId          UserId                      ProfileName  \\\n",
              "0   1  B001E4KFG0  A3SGXH7AUHU8GW                       delmartian   \n",
              "1   2  B00813GRG4  A1D87F6ZCVE5NK                           dll pa   \n",
              "2   3  B000LQOCH0   ABXLMWJIXXAIN  Natalia Corres \"Natalia Corres\"   \n",
              "3   4  B000UA0QIQ  A395BORC6FGVXV                             Karl   \n",
              "4   5  B006K2ZZ7K  A1UQRSCLF8GW1T    Michael D. Bigham \"M. Wassir\"   \n",
              "\n",
              "   HelpfulnessNumerator  HelpfulnessDenominator  Score        Time  \\\n",
              "0                     1                       1      5  1303862400   \n",
              "1                     0                       0      1  1346976000   \n",
              "2                     1                       1      4  1219017600   \n",
              "3                     3                       3      2  1307923200   \n",
              "4                     0                       0      5  1350777600   \n",
              "\n",
              "                 Summary                                               Text  \\\n",
              "0  Good Quality Dog Food  I have bought several of the Vitality canned d...   \n",
              "1      Not as Advertised  Product arrived labeled as Jumbo Salted Peanut...   \n",
              "2  \"Delight\" says it all  This is a confection that has been around a fe...   \n",
              "3         Cough Medicine  If you are looking for the secret ingredient i...   \n",
              "4            Great taffy  Great taffy at a great price.  There was a wid...   \n",
              "\n",
              "  Score Class                                     Text_processed  \n",
              "0    Positive  buy several vitality can dog food product find...  \n",
              "1    Negative  product arrive label jumbo salt peanutsthe pea...  \n",
              "2    Positive  confection century light pillowy citrus gelati...  \n",
              "3    Negative  look secret ingredient robitussin believe find...  \n",
              "4    Positive  great taffy great price wide assortment yummy ...  "
            ]
          },
          "metadata": {
            "tags": []
          },
          "execution_count": 3
        }
      ]
    },
    {
      "cell_type": "code",
      "metadata": {
        "colab_type": "code",
        "id": "rXHaLMPYnp8J",
        "colab": {}
      },
      "source": [
        "#Create a dictionary containing all the reviews based on the product ID : groupby reviews based on productId\n",
        "food_rev=pd.DataFrame()\n",
        "food_df['Text_processed']=food_df['Text_processed'].astype(str)"
      ],
      "execution_count": 0,
      "outputs": []
    },
    {
      "cell_type": "code",
      "metadata": {
        "id": "vQBQqGOo09FW",
        "colab_type": "code",
        "outputId": "6f74c40b-8209-43d5-9fc9-9bbb362209d1",
        "colab": {}
      },
      "source": [
        "food_rev['ProductId']=food_df['ProductId']\n",
        "food_rev['Text_processed']=food_df['Text_processed']\n",
        "food_rev"
      ],
      "execution_count": 0,
      "outputs": [
        {
          "output_type": "execute_result",
          "data": {
            "text/html": [
              "<div>\n",
              "<style scoped>\n",
              "    .dataframe tbody tr th:only-of-type {\n",
              "        vertical-align: middle;\n",
              "    }\n",
              "\n",
              "    .dataframe tbody tr th {\n",
              "        vertical-align: top;\n",
              "    }\n",
              "\n",
              "    .dataframe thead th {\n",
              "        text-align: right;\n",
              "    }\n",
              "</style>\n",
              "<table border=\"1\" class=\"dataframe\">\n",
              "  <thead>\n",
              "    <tr style=\"text-align: right;\">\n",
              "      <th></th>\n",
              "      <th>ProductId</th>\n",
              "      <th>Text_processed</th>\n",
              "    </tr>\n",
              "  </thead>\n",
              "  <tbody>\n",
              "    <tr>\n",
              "      <td>0</td>\n",
              "      <td>B001E4KFG0</td>\n",
              "      <td>buy several vitality can dog food product find...</td>\n",
              "    </tr>\n",
              "    <tr>\n",
              "      <td>1</td>\n",
              "      <td>B00813GRG4</td>\n",
              "      <td>product arrive label jumbo salt peanutsthe pea...</td>\n",
              "    </tr>\n",
              "    <tr>\n",
              "      <td>2</td>\n",
              "      <td>B000LQOCH0</td>\n",
              "      <td>confection century light pillowy citrus gelati...</td>\n",
              "    </tr>\n",
              "    <tr>\n",
              "      <td>3</td>\n",
              "      <td>B000UA0QIQ</td>\n",
              "      <td>look secret ingredient robitussin believe find...</td>\n",
              "    </tr>\n",
              "    <tr>\n",
              "      <td>4</td>\n",
              "      <td>B006K2ZZ7K</td>\n",
              "      <td>great taffy great price wide assortment yummy ...</td>\n",
              "    </tr>\n",
              "    <tr>\n",
              "      <td>...</td>\n",
              "      <td>...</td>\n",
              "      <td>...</td>\n",
              "    </tr>\n",
              "    <tr>\n",
              "      <td>393926</td>\n",
              "      <td>B001EO7N10</td>\n",
              "      <td>great sesame chickenthis good well resturant e...</td>\n",
              "    </tr>\n",
              "    <tr>\n",
              "      <td>393927</td>\n",
              "      <td>B003S1WTCU</td>\n",
              "      <td>be disappointed flavor chocolate note weak mil...</td>\n",
              "    </tr>\n",
              "    <tr>\n",
              "      <td>393928</td>\n",
              "      <td>B004I613EE</td>\n",
              "      <td>star small give training session try train dog...</td>\n",
              "    </tr>\n",
              "    <tr>\n",
              "      <td>393929</td>\n",
              "      <td>B004I613EE</td>\n",
              "      <td>good treat train rewarding dog good grooming l...</td>\n",
              "    </tr>\n",
              "    <tr>\n",
              "      <td>393930</td>\n",
              "      <td>B001LR2CU2</td>\n",
              "      <td>satisfied product advertise use cereal raw vin...</td>\n",
              "    </tr>\n",
              "  </tbody>\n",
              "</table>\n",
              "<p>393931 rows × 2 columns</p>\n",
              "</div>"
            ],
            "text/plain": [
              "         ProductId                                     Text_processed\n",
              "0       B001E4KFG0  buy several vitality can dog food product find...\n",
              "1       B00813GRG4  product arrive label jumbo salt peanutsthe pea...\n",
              "2       B000LQOCH0  confection century light pillowy citrus gelati...\n",
              "3       B000UA0QIQ  look secret ingredient robitussin believe find...\n",
              "4       B006K2ZZ7K  great taffy great price wide assortment yummy ...\n",
              "...            ...                                                ...\n",
              "393926  B001EO7N10  great sesame chickenthis good well resturant e...\n",
              "393927  B003S1WTCU  be disappointed flavor chocolate note weak mil...\n",
              "393928  B004I613EE  star small give training session try train dog...\n",
              "393929  B004I613EE  good treat train rewarding dog good grooming l...\n",
              "393930  B001LR2CU2  satisfied product advertise use cereal raw vin...\n",
              "\n",
              "[393931 rows x 2 columns]"
            ]
          },
          "metadata": {
            "tags": []
          },
          "execution_count": 5
        }
      ]
    },
    {
      "cell_type": "code",
      "metadata": {
        "id": "D5rWdWX109Fd",
        "colab_type": "code",
        "colab": {}
      },
      "source": [
        "food_rev['Text'] = food_rev.groupby(['ProductId'])['Text_processed'].transform(lambda x: ' '.join(x))\n"
      ],
      "execution_count": 0,
      "outputs": []
    },
    {
      "cell_type": "code",
      "metadata": {
        "id": "o-_qEhml09F-",
        "colab_type": "code",
        "outputId": "16ee3499-1056-4afb-c503-1a8a07ff4956",
        "colab": {}
      },
      "source": [
        "food_rev=food_rev[['ProductId', 'Text']].drop_duplicates()\n",
        "food_rev"
      ],
      "execution_count": 0,
      "outputs": [
        {
          "output_type": "execute_result",
          "data": {
            "text/html": [
              "<div>\n",
              "<style scoped>\n",
              "    .dataframe tbody tr th:only-of-type {\n",
              "        vertical-align: middle;\n",
              "    }\n",
              "\n",
              "    .dataframe tbody tr th {\n",
              "        vertical-align: top;\n",
              "    }\n",
              "\n",
              "    .dataframe thead th {\n",
              "        text-align: right;\n",
              "    }\n",
              "</style>\n",
              "<table border=\"1\" class=\"dataframe\">\n",
              "  <thead>\n",
              "    <tr style=\"text-align: right;\">\n",
              "      <th></th>\n",
              "      <th>ProductId</th>\n",
              "      <th>Text</th>\n",
              "    </tr>\n",
              "  </thead>\n",
              "  <tbody>\n",
              "    <tr>\n",
              "      <td>0</td>\n",
              "      <td>B001E4KFG0</td>\n",
              "      <td>buy several vitality can dog food product find...</td>\n",
              "    </tr>\n",
              "    <tr>\n",
              "      <td>1</td>\n",
              "      <td>B00813GRG4</td>\n",
              "      <td>product arrive label jumbo salt peanutsthe pea...</td>\n",
              "    </tr>\n",
              "    <tr>\n",
              "      <td>2</td>\n",
              "      <td>B000LQOCH0</td>\n",
              "      <td>confection century light pillowy citrus gelati...</td>\n",
              "    </tr>\n",
              "    <tr>\n",
              "      <td>3</td>\n",
              "      <td>B000UA0QIQ</td>\n",
              "      <td>look secret ingredient robitussin believe find...</td>\n",
              "    </tr>\n",
              "    <tr>\n",
              "      <td>4</td>\n",
              "      <td>B006K2ZZ7K</td>\n",
              "      <td>great taffy great price wide assortment yummy ...</td>\n",
              "    </tr>\n",
              "    <tr>\n",
              "      <td>...</td>\n",
              "      <td>...</td>\n",
              "      <td>...</td>\n",
              "    </tr>\n",
              "    <tr>\n",
              "      <td>393920</td>\n",
              "      <td>B000H7K114</td>\n",
              "      <td>love tea discover pleasure chai attend yoga cl...</td>\n",
              "    </tr>\n",
              "    <tr>\n",
              "      <td>393921</td>\n",
              "      <td>B001EO7N10</td>\n",
              "      <td>foodie use lot chinese spice powder daily cook...</td>\n",
              "    </tr>\n",
              "    <tr>\n",
              "      <td>393927</td>\n",
              "      <td>B003S1WTCU</td>\n",
              "      <td>be disappointed flavor chocolate note weak mil...</td>\n",
              "    </tr>\n",
              "    <tr>\n",
              "      <td>393928</td>\n",
              "      <td>B004I613EE</td>\n",
              "      <td>star small give training session try train dog...</td>\n",
              "    </tr>\n",
              "    <tr>\n",
              "      <td>393930</td>\n",
              "      <td>B001LR2CU2</td>\n",
              "      <td>satisfied product advertise use cereal raw vin...</td>\n",
              "    </tr>\n",
              "  </tbody>\n",
              "</table>\n",
              "<p>67624 rows × 2 columns</p>\n",
              "</div>"
            ],
            "text/plain": [
              "         ProductId                                               Text\n",
              "0       B001E4KFG0  buy several vitality can dog food product find...\n",
              "1       B00813GRG4  product arrive label jumbo salt peanutsthe pea...\n",
              "2       B000LQOCH0  confection century light pillowy citrus gelati...\n",
              "3       B000UA0QIQ  look secret ingredient robitussin believe find...\n",
              "4       B006K2ZZ7K  great taffy great price wide assortment yummy ...\n",
              "...            ...                                                ...\n",
              "393920  B000H7K114  love tea discover pleasure chai attend yoga cl...\n",
              "393921  B001EO7N10  foodie use lot chinese spice powder daily cook...\n",
              "393927  B003S1WTCU  be disappointed flavor chocolate note weak mil...\n",
              "393928  B004I613EE  star small give training session try train dog...\n",
              "393930  B001LR2CU2  satisfied product advertise use cereal raw vin...\n",
              "\n",
              "[67624 rows x 2 columns]"
            ]
          },
          "metadata": {
            "tags": []
          },
          "execution_count": 7
        }
      ]
    },
    {
      "cell_type": "code",
      "metadata": {
        "colab_type": "code",
        "id": "0hNBrMsTlrXH",
        "outputId": "4e80e596-90a4-4e51-be28-e90ef8a83660",
        "colab": {
          "base_uri": "https://localhost:8080/",
          "height": 437
        }
      },
      "source": [
        "#helpfulness numerator and denominator \n",
        "help_ratings = pd.DataFrame(food_df.groupby(['ProductId'], as_index = True , sort = True)['HelpfulnessNumerator','HelpfulnessDenominator'].apply(lambda x: x.sum()))\n",
        "help_ratings"
      ],
      "execution_count": 0,
      "outputs": [
        {
          "output_type": "execute_result",
          "data": {
            "text/html": [
              "<div>\n",
              "<style scoped>\n",
              "    .dataframe tbody tr th:only-of-type {\n",
              "        vertical-align: middle;\n",
              "    }\n",
              "\n",
              "    .dataframe tbody tr th {\n",
              "        vertical-align: top;\n",
              "    }\n",
              "\n",
              "    .dataframe thead th {\n",
              "        text-align: right;\n",
              "    }\n",
              "</style>\n",
              "<table border=\"1\" class=\"dataframe\">\n",
              "  <thead>\n",
              "    <tr style=\"text-align: right;\">\n",
              "      <th></th>\n",
              "      <th>HelpfulnessNumerator</th>\n",
              "      <th>HelpfulnessDenominator</th>\n",
              "    </tr>\n",
              "    <tr>\n",
              "      <th>ProductId</th>\n",
              "      <th></th>\n",
              "      <th></th>\n",
              "    </tr>\n",
              "  </thead>\n",
              "  <tbody>\n",
              "    <tr>\n",
              "      <td>0006641040</td>\n",
              "      <td>112</td>\n",
              "      <td>125</td>\n",
              "    </tr>\n",
              "    <tr>\n",
              "      <td>141278509X</td>\n",
              "      <td>1</td>\n",
              "      <td>1</td>\n",
              "    </tr>\n",
              "    <tr>\n",
              "      <td>2734888454</td>\n",
              "      <td>1</td>\n",
              "      <td>1</td>\n",
              "    </tr>\n",
              "    <tr>\n",
              "      <td>2841233731</td>\n",
              "      <td>0</td>\n",
              "      <td>0</td>\n",
              "    </tr>\n",
              "    <tr>\n",
              "      <td>7800648702</td>\n",
              "      <td>0</td>\n",
              "      <td>0</td>\n",
              "    </tr>\n",
              "    <tr>\n",
              "      <td>...</td>\n",
              "      <td>...</td>\n",
              "      <td>...</td>\n",
              "    </tr>\n",
              "    <tr>\n",
              "      <td>B009SF0TN6</td>\n",
              "      <td>0</td>\n",
              "      <td>0</td>\n",
              "    </tr>\n",
              "    <tr>\n",
              "      <td>B009SR4OQ2</td>\n",
              "      <td>1</td>\n",
              "      <td>1</td>\n",
              "    </tr>\n",
              "    <tr>\n",
              "      <td>B009UOFU20</td>\n",
              "      <td>0</td>\n",
              "      <td>0</td>\n",
              "    </tr>\n",
              "    <tr>\n",
              "      <td>B009WSNWC4</td>\n",
              "      <td>0</td>\n",
              "      <td>0</td>\n",
              "    </tr>\n",
              "    <tr>\n",
              "      <td>B009WVB40S</td>\n",
              "      <td>0</td>\n",
              "      <td>0</td>\n",
              "    </tr>\n",
              "  </tbody>\n",
              "</table>\n",
              "<p>67624 rows × 2 columns</p>\n",
              "</div>"
            ],
            "text/plain": [
              "            HelpfulnessNumerator  HelpfulnessDenominator\n",
              "ProductId                                               \n",
              "0006641040                   112                     125\n",
              "141278509X                     1                       1\n",
              "2734888454                     1                       1\n",
              "2841233731                     0                       0\n",
              "7800648702                     0                       0\n",
              "...                          ...                     ...\n",
              "B009SF0TN6                     0                       0\n",
              "B009SR4OQ2                     1                       1\n",
              "B009UOFU20                     0                       0\n",
              "B009WSNWC4                     0                       0\n",
              "B009WVB40S                     0                       0\n",
              "\n",
              "[67624 rows x 2 columns]"
            ]
          },
          "metadata": {
            "tags": []
          },
          "execution_count": 8
        }
      ]
    },
    {
      "cell_type": "code",
      "metadata": {
        "colab_type": "code",
        "id": "TBrjcXb_EkrS",
        "outputId": "6df8e2f7-52dc-4a34-cd77-5eae81fc8799",
        "colab": {
          "base_uri": "https://localhost:8080/",
          "height": 437
        }
      },
      "source": [
        "score_ratings = pd.DataFrame(food_df.groupby(['ProductId'], as_index = True , sort = True)['Score'].apply(lambda x: int(round(x.mean()))))\n",
        "score_ratings"
      ],
      "execution_count": 0,
      "outputs": [
        {
          "output_type": "execute_result",
          "data": {
            "text/html": [
              "<div>\n",
              "<style scoped>\n",
              "    .dataframe tbody tr th:only-of-type {\n",
              "        vertical-align: middle;\n",
              "    }\n",
              "\n",
              "    .dataframe tbody tr th {\n",
              "        vertical-align: top;\n",
              "    }\n",
              "\n",
              "    .dataframe thead th {\n",
              "        text-align: right;\n",
              "    }\n",
              "</style>\n",
              "<table border=\"1\" class=\"dataframe\">\n",
              "  <thead>\n",
              "    <tr style=\"text-align: right;\">\n",
              "      <th></th>\n",
              "      <th>Score</th>\n",
              "    </tr>\n",
              "    <tr>\n",
              "      <th>ProductId</th>\n",
              "      <th></th>\n",
              "    </tr>\n",
              "  </thead>\n",
              "  <tbody>\n",
              "    <tr>\n",
              "      <td>0006641040</td>\n",
              "      <td>4</td>\n",
              "    </tr>\n",
              "    <tr>\n",
              "      <td>141278509X</td>\n",
              "      <td>5</td>\n",
              "    </tr>\n",
              "    <tr>\n",
              "      <td>2734888454</td>\n",
              "      <td>4</td>\n",
              "    </tr>\n",
              "    <tr>\n",
              "      <td>2841233731</td>\n",
              "      <td>5</td>\n",
              "    </tr>\n",
              "    <tr>\n",
              "      <td>7800648702</td>\n",
              "      <td>4</td>\n",
              "    </tr>\n",
              "    <tr>\n",
              "      <td>...</td>\n",
              "      <td>...</td>\n",
              "    </tr>\n",
              "    <tr>\n",
              "      <td>B009SF0TN6</td>\n",
              "      <td>5</td>\n",
              "    </tr>\n",
              "    <tr>\n",
              "      <td>B009SR4OQ2</td>\n",
              "      <td>5</td>\n",
              "    </tr>\n",
              "    <tr>\n",
              "      <td>B009UOFU20</td>\n",
              "      <td>1</td>\n",
              "    </tr>\n",
              "    <tr>\n",
              "      <td>B009WSNWC4</td>\n",
              "      <td>5</td>\n",
              "    </tr>\n",
              "    <tr>\n",
              "      <td>B009WVB40S</td>\n",
              "      <td>5</td>\n",
              "    </tr>\n",
              "  </tbody>\n",
              "</table>\n",
              "<p>67624 rows × 1 columns</p>\n",
              "</div>"
            ],
            "text/plain": [
              "            Score\n",
              "ProductId        \n",
              "0006641040      4\n",
              "141278509X      5\n",
              "2734888454      4\n",
              "2841233731      5\n",
              "7800648702      4\n",
              "...           ...\n",
              "B009SF0TN6      5\n",
              "B009SR4OQ2      5\n",
              "B009UOFU20      1\n",
              "B009WSNWC4      5\n",
              "B009WVB40S      5\n",
              "\n",
              "[67624 rows x 1 columns]"
            ]
          },
          "metadata": {
            "tags": []
          },
          "execution_count": 9
        }
      ]
    },
    {
      "cell_type": "code",
      "metadata": {
        "colab_type": "code",
        "id": "YZhZjvlOm3W_",
        "outputId": "4e976336-dfef-43c9-c4a4-6060758bc065",
        "colab": {
          "base_uri": "https://localhost:8080/",
          "height": 67
        }
      },
      "source": [
        "NNinput = pd.merge(food_rev, help_ratings, on='ProductId', how='inner')\n",
        "NNinput = pd.merge(NNinput, score_ratings, on='ProductId', how='inner')\n",
        "NNinput\n",
        "#NNinput.loc[:,'Prd_Id'] = prod_list\n",
        "#NNinput.columns"
      ],
      "execution_count": 0,
      "outputs": [
        {
          "output_type": "execute_result",
          "data": {
            "text/html": [
              "<div>\n",
              "<style scoped>\n",
              "    .dataframe tbody tr th:only-of-type {\n",
              "        vertical-align: middle;\n",
              "    }\n",
              "\n",
              "    .dataframe tbody tr th {\n",
              "        vertical-align: top;\n",
              "    }\n",
              "\n",
              "    .dataframe thead th {\n",
              "        text-align: right;\n",
              "    }\n",
              "</style>\n",
              "<table border=\"1\" class=\"dataframe\">\n",
              "  <thead>\n",
              "    <tr style=\"text-align: right;\">\n",
              "      <th></th>\n",
              "      <th>ProductId</th>\n",
              "      <th>Text</th>\n",
              "      <th>HelpfulnessNumerator</th>\n",
              "      <th>HelpfulnessDenominator</th>\n",
              "      <th>Score</th>\n",
              "    </tr>\n",
              "  </thead>\n",
              "  <tbody>\n",
              "    <tr>\n",
              "      <td>0</td>\n",
              "      <td>B001E4KFG0</td>\n",
              "      <td>buy several vitality can dog food product find...</td>\n",
              "      <td>1</td>\n",
              "      <td>1</td>\n",
              "      <td>5</td>\n",
              "    </tr>\n",
              "    <tr>\n",
              "      <td>1</td>\n",
              "      <td>B00813GRG4</td>\n",
              "      <td>product arrive label jumbo salt peanutsthe pea...</td>\n",
              "      <td>0</td>\n",
              "      <td>0</td>\n",
              "      <td>1</td>\n",
              "    </tr>\n",
              "    <tr>\n",
              "      <td>2</td>\n",
              "      <td>B000LQOCH0</td>\n",
              "      <td>confection century light pillowy citrus gelati...</td>\n",
              "      <td>1</td>\n",
              "      <td>1</td>\n",
              "      <td>4</td>\n",
              "    </tr>\n",
              "    <tr>\n",
              "      <td>3</td>\n",
              "      <td>B000UA0QIQ</td>\n",
              "      <td>look secret ingredient robitussin believe find...</td>\n",
              "      <td>3</td>\n",
              "      <td>3</td>\n",
              "      <td>2</td>\n",
              "    </tr>\n",
              "    <tr>\n",
              "      <td>4</td>\n",
              "      <td>B006K2ZZ7K</td>\n",
              "      <td>great taffy great price wide assortment yummy ...</td>\n",
              "      <td>0</td>\n",
              "      <td>0</td>\n",
              "      <td>5</td>\n",
              "    </tr>\n",
              "    <tr>\n",
              "      <td>...</td>\n",
              "      <td>...</td>\n",
              "      <td>...</td>\n",
              "      <td>...</td>\n",
              "      <td>...</td>\n",
              "      <td>...</td>\n",
              "    </tr>\n",
              "    <tr>\n",
              "      <td>67619</td>\n",
              "      <td>B000H7K114</td>\n",
              "      <td>love tea discover pleasure chai attend yoga cl...</td>\n",
              "      <td>0</td>\n",
              "      <td>0</td>\n",
              "      <td>5</td>\n",
              "    </tr>\n",
              "    <tr>\n",
              "      <td>67620</td>\n",
              "      <td>B001EO7N10</td>\n",
              "      <td>foodie use lot chinese spice powder daily cook...</td>\n",
              "      <td>5</td>\n",
              "      <td>5</td>\n",
              "      <td>4</td>\n",
              "    </tr>\n",
              "    <tr>\n",
              "      <td>67621</td>\n",
              "      <td>B003S1WTCU</td>\n",
              "      <td>be disappointed flavor chocolate note weak mil...</td>\n",
              "      <td>0</td>\n",
              "      <td>0</td>\n",
              "      <td>2</td>\n",
              "    </tr>\n",
              "    <tr>\n",
              "      <td>67622</td>\n",
              "      <td>B004I613EE</td>\n",
              "      <td>star small give training session try train dog...</td>\n",
              "      <td>3</td>\n",
              "      <td>3</td>\n",
              "      <td>5</td>\n",
              "    </tr>\n",
              "    <tr>\n",
              "      <td>67623</td>\n",
              "      <td>B001LR2CU2</td>\n",
              "      <td>satisfied product advertise use cereal raw vin...</td>\n",
              "      <td>0</td>\n",
              "      <td>0</td>\n",
              "      <td>5</td>\n",
              "    </tr>\n",
              "  </tbody>\n",
              "</table>\n",
              "<p>67624 rows × 5 columns</p>\n",
              "</div>"
            ],
            "text/plain": [
              "        ProductId                                               Text  \\\n",
              "0      B001E4KFG0  buy several vitality can dog food product find...   \n",
              "1      B00813GRG4  product arrive label jumbo salt peanutsthe pea...   \n",
              "2      B000LQOCH0  confection century light pillowy citrus gelati...   \n",
              "3      B000UA0QIQ  look secret ingredient robitussin believe find...   \n",
              "4      B006K2ZZ7K  great taffy great price wide assortment yummy ...   \n",
              "...           ...                                                ...   \n",
              "67619  B000H7K114  love tea discover pleasure chai attend yoga cl...   \n",
              "67620  B001EO7N10  foodie use lot chinese spice powder daily cook...   \n",
              "67621  B003S1WTCU  be disappointed flavor chocolate note weak mil...   \n",
              "67622  B004I613EE  star small give training session try train dog...   \n",
              "67623  B001LR2CU2  satisfied product advertise use cereal raw vin...   \n",
              "\n",
              "       HelpfulnessNumerator  HelpfulnessDenominator  Score  \n",
              "0                         1                       1      5  \n",
              "1                         0                       0      1  \n",
              "2                         1                       1      4  \n",
              "3                         3                       3      2  \n",
              "4                         0                       0      5  \n",
              "...                     ...                     ...    ...  \n",
              "67619                     0                       0      5  \n",
              "67620                     5                       5      4  \n",
              "67621                     0                       0      2  \n",
              "67622                     3                       3      5  \n",
              "67623                     0                       0      5  \n",
              "\n",
              "[67624 rows x 5 columns]"
            ]
          },
          "metadata": {
            "tags": []
          },
          "execution_count": 10
        }
      ]
    },
    {
      "cell_type": "code",
      "metadata": {
        "id": "wCIn0e2d09I6",
        "colab_type": "code",
        "colab": {}
      },
      "source": [
        "#Compute helpfulness percentage \n",
        "NNinput['HelpfulnessPercentage'] = NNinput['HelpfulnessNumerator'] / NNinput['HelpfulnessDenominator'] \n",
        "#Compute recommend or not \n",
        "NNinput['Recommend?'] = np.where(NNinput['Score'] > 3, 1 , 0)"
      ],
      "execution_count": 0,
      "outputs": []
    },
    {
      "cell_type": "code",
      "metadata": {
        "id": "HYZtYPq009I_",
        "colab_type": "code",
        "colab": {}
      },
      "source": [
        "NNinput['HelpfulnessPercentage']=NNinput['HelpfulnessPercentage'].fillna(0.0)\n",
        "NNinput=NNinput.drop(columns=['HelpfulnessNumerator', 'HelpfulnessDenominator', 'Score'])"
      ],
      "execution_count": 0,
      "outputs": []
    },
    {
      "cell_type": "code",
      "metadata": {
        "id": "vbLzp_t509JD",
        "colab_type": "code",
        "outputId": "e967d01e-b3ed-40c9-e054-ca8153c01a47",
        "colab": {}
      },
      "source": [
        "NNinput"
      ],
      "execution_count": 0,
      "outputs": [
        {
          "output_type": "execute_result",
          "data": {
            "text/html": [
              "<div>\n",
              "<style scoped>\n",
              "    .dataframe tbody tr th:only-of-type {\n",
              "        vertical-align: middle;\n",
              "    }\n",
              "\n",
              "    .dataframe tbody tr th {\n",
              "        vertical-align: top;\n",
              "    }\n",
              "\n",
              "    .dataframe thead th {\n",
              "        text-align: right;\n",
              "    }\n",
              "</style>\n",
              "<table border=\"1\" class=\"dataframe\">\n",
              "  <thead>\n",
              "    <tr style=\"text-align: right;\">\n",
              "      <th></th>\n",
              "      <th>ProductId</th>\n",
              "      <th>Text</th>\n",
              "      <th>HelpfulnessPercentage</th>\n",
              "      <th>Recommend?</th>\n",
              "    </tr>\n",
              "  </thead>\n",
              "  <tbody>\n",
              "    <tr>\n",
              "      <td>0</td>\n",
              "      <td>B001E4KFG0</td>\n",
              "      <td>buy several vitality can dog food product find...</td>\n",
              "      <td>1.0</td>\n",
              "      <td>1</td>\n",
              "    </tr>\n",
              "    <tr>\n",
              "      <td>1</td>\n",
              "      <td>B00813GRG4</td>\n",
              "      <td>product arrive label jumbo salt peanutsthe pea...</td>\n",
              "      <td>0.0</td>\n",
              "      <td>0</td>\n",
              "    </tr>\n",
              "    <tr>\n",
              "      <td>2</td>\n",
              "      <td>B000LQOCH0</td>\n",
              "      <td>confection century light pillowy citrus gelati...</td>\n",
              "      <td>1.0</td>\n",
              "      <td>1</td>\n",
              "    </tr>\n",
              "    <tr>\n",
              "      <td>3</td>\n",
              "      <td>B000UA0QIQ</td>\n",
              "      <td>look secret ingredient robitussin believe find...</td>\n",
              "      <td>1.0</td>\n",
              "      <td>0</td>\n",
              "    </tr>\n",
              "    <tr>\n",
              "      <td>4</td>\n",
              "      <td>B006K2ZZ7K</td>\n",
              "      <td>great taffy great price wide assortment yummy ...</td>\n",
              "      <td>0.0</td>\n",
              "      <td>1</td>\n",
              "    </tr>\n",
              "    <tr>\n",
              "      <td>...</td>\n",
              "      <td>...</td>\n",
              "      <td>...</td>\n",
              "      <td>...</td>\n",
              "      <td>...</td>\n",
              "    </tr>\n",
              "    <tr>\n",
              "      <td>67619</td>\n",
              "      <td>B000H7K114</td>\n",
              "      <td>love tea discover pleasure chai attend yoga cl...</td>\n",
              "      <td>0.0</td>\n",
              "      <td>1</td>\n",
              "    </tr>\n",
              "    <tr>\n",
              "      <td>67620</td>\n",
              "      <td>B001EO7N10</td>\n",
              "      <td>foodie use lot chinese spice powder daily cook...</td>\n",
              "      <td>1.0</td>\n",
              "      <td>1</td>\n",
              "    </tr>\n",
              "    <tr>\n",
              "      <td>67621</td>\n",
              "      <td>B003S1WTCU</td>\n",
              "      <td>be disappointed flavor chocolate note weak mil...</td>\n",
              "      <td>0.0</td>\n",
              "      <td>0</td>\n",
              "    </tr>\n",
              "    <tr>\n",
              "      <td>67622</td>\n",
              "      <td>B004I613EE</td>\n",
              "      <td>star small give training session try train dog...</td>\n",
              "      <td>1.0</td>\n",
              "      <td>1</td>\n",
              "    </tr>\n",
              "    <tr>\n",
              "      <td>67623</td>\n",
              "      <td>B001LR2CU2</td>\n",
              "      <td>satisfied product advertise use cereal raw vin...</td>\n",
              "      <td>0.0</td>\n",
              "      <td>1</td>\n",
              "    </tr>\n",
              "  </tbody>\n",
              "</table>\n",
              "<p>67624 rows × 4 columns</p>\n",
              "</div>"
            ],
            "text/plain": [
              "        ProductId                                               Text  \\\n",
              "0      B001E4KFG0  buy several vitality can dog food product find...   \n",
              "1      B00813GRG4  product arrive label jumbo salt peanutsthe pea...   \n",
              "2      B000LQOCH0  confection century light pillowy citrus gelati...   \n",
              "3      B000UA0QIQ  look secret ingredient robitussin believe find...   \n",
              "4      B006K2ZZ7K  great taffy great price wide assortment yummy ...   \n",
              "...           ...                                                ...   \n",
              "67619  B000H7K114  love tea discover pleasure chai attend yoga cl...   \n",
              "67620  B001EO7N10  foodie use lot chinese spice powder daily cook...   \n",
              "67621  B003S1WTCU  be disappointed flavor chocolate note weak mil...   \n",
              "67622  B004I613EE  star small give training session try train dog...   \n",
              "67623  B001LR2CU2  satisfied product advertise use cereal raw vin...   \n",
              "\n",
              "       HelpfulnessPercentage  Recommend?  \n",
              "0                        1.0           1  \n",
              "1                        0.0           0  \n",
              "2                        1.0           1  \n",
              "3                        1.0           0  \n",
              "4                        0.0           1  \n",
              "...                      ...         ...  \n",
              "67619                    0.0           1  \n",
              "67620                    1.0           1  \n",
              "67621                    0.0           0  \n",
              "67622                    1.0           1  \n",
              "67623                    0.0           1  \n",
              "\n",
              "[67624 rows x 4 columns]"
            ]
          },
          "metadata": {
            "tags": []
          },
          "execution_count": 13
        }
      ]
    },
    {
      "cell_type": "code",
      "metadata": {
        "id": "_7_WQhdS09JH",
        "colab_type": "code",
        "outputId": "29240caa-7582-42a0-ffe6-65496f742972",
        "colab": {}
      },
      "source": [
        "NNinput=NNinput.drop(columns=['ProductId'])\n",
        "NNinput"
      ],
      "execution_count": 0,
      "outputs": [
        {
          "output_type": "execute_result",
          "data": {
            "text/html": [
              "<div>\n",
              "<style scoped>\n",
              "    .dataframe tbody tr th:only-of-type {\n",
              "        vertical-align: middle;\n",
              "    }\n",
              "\n",
              "    .dataframe tbody tr th {\n",
              "        vertical-align: top;\n",
              "    }\n",
              "\n",
              "    .dataframe thead th {\n",
              "        text-align: right;\n",
              "    }\n",
              "</style>\n",
              "<table border=\"1\" class=\"dataframe\">\n",
              "  <thead>\n",
              "    <tr style=\"text-align: right;\">\n",
              "      <th></th>\n",
              "      <th>Text</th>\n",
              "      <th>HelpfulnessPercentage</th>\n",
              "      <th>Recommend?</th>\n",
              "    </tr>\n",
              "  </thead>\n",
              "  <tbody>\n",
              "    <tr>\n",
              "      <td>0</td>\n",
              "      <td>buy several vitality can dog food product find...</td>\n",
              "      <td>1.0</td>\n",
              "      <td>1</td>\n",
              "    </tr>\n",
              "    <tr>\n",
              "      <td>1</td>\n",
              "      <td>product arrive label jumbo salt peanutsthe pea...</td>\n",
              "      <td>0.0</td>\n",
              "      <td>0</td>\n",
              "    </tr>\n",
              "    <tr>\n",
              "      <td>2</td>\n",
              "      <td>confection century light pillowy citrus gelati...</td>\n",
              "      <td>1.0</td>\n",
              "      <td>1</td>\n",
              "    </tr>\n",
              "    <tr>\n",
              "      <td>3</td>\n",
              "      <td>look secret ingredient robitussin believe find...</td>\n",
              "      <td>1.0</td>\n",
              "      <td>0</td>\n",
              "    </tr>\n",
              "    <tr>\n",
              "      <td>4</td>\n",
              "      <td>great taffy great price wide assortment yummy ...</td>\n",
              "      <td>0.0</td>\n",
              "      <td>1</td>\n",
              "    </tr>\n",
              "    <tr>\n",
              "      <td>...</td>\n",
              "      <td>...</td>\n",
              "      <td>...</td>\n",
              "      <td>...</td>\n",
              "    </tr>\n",
              "    <tr>\n",
              "      <td>67619</td>\n",
              "      <td>love tea discover pleasure chai attend yoga cl...</td>\n",
              "      <td>0.0</td>\n",
              "      <td>1</td>\n",
              "    </tr>\n",
              "    <tr>\n",
              "      <td>67620</td>\n",
              "      <td>foodie use lot chinese spice powder daily cook...</td>\n",
              "      <td>1.0</td>\n",
              "      <td>1</td>\n",
              "    </tr>\n",
              "    <tr>\n",
              "      <td>67621</td>\n",
              "      <td>be disappointed flavor chocolate note weak mil...</td>\n",
              "      <td>0.0</td>\n",
              "      <td>0</td>\n",
              "    </tr>\n",
              "    <tr>\n",
              "      <td>67622</td>\n",
              "      <td>star small give training session try train dog...</td>\n",
              "      <td>1.0</td>\n",
              "      <td>1</td>\n",
              "    </tr>\n",
              "    <tr>\n",
              "      <td>67623</td>\n",
              "      <td>satisfied product advertise use cereal raw vin...</td>\n",
              "      <td>0.0</td>\n",
              "      <td>1</td>\n",
              "    </tr>\n",
              "  </tbody>\n",
              "</table>\n",
              "<p>67624 rows × 3 columns</p>\n",
              "</div>"
            ],
            "text/plain": [
              "                                                    Text  \\\n",
              "0      buy several vitality can dog food product find...   \n",
              "1      product arrive label jumbo salt peanutsthe pea...   \n",
              "2      confection century light pillowy citrus gelati...   \n",
              "3      look secret ingredient robitussin believe find...   \n",
              "4      great taffy great price wide assortment yummy ...   \n",
              "...                                                  ...   \n",
              "67619  love tea discover pleasure chai attend yoga cl...   \n",
              "67620  foodie use lot chinese spice powder daily cook...   \n",
              "67621  be disappointed flavor chocolate note weak mil...   \n",
              "67622  star small give training session try train dog...   \n",
              "67623  satisfied product advertise use cereal raw vin...   \n",
              "\n",
              "       HelpfulnessPercentage  Recommend?  \n",
              "0                        1.0           1  \n",
              "1                        0.0           0  \n",
              "2                        1.0           1  \n",
              "3                        1.0           0  \n",
              "4                        0.0           1  \n",
              "...                      ...         ...  \n",
              "67619                    0.0           1  \n",
              "67620                    1.0           1  \n",
              "67621                    0.0           0  \n",
              "67622                    1.0           1  \n",
              "67623                    0.0           1  \n",
              "\n",
              "[67624 rows x 3 columns]"
            ]
          },
          "metadata": {
            "tags": []
          },
          "execution_count": 14
        }
      ]
    },
    {
      "cell_type": "code",
      "metadata": {
        "id": "tH6Hyfod09JL",
        "colab_type": "code",
        "colab": {}
      },
      "source": [
        "# set parameters:\n",
        "#max_features = 1000 # max number of words in the corpus\n",
        "#maxlen = 400 # max number of words in the review\n",
        "batch_size = 32\n",
        "embedding_dims = 50 # emddeding for each word\n",
        "filters = 250\n",
        "kernel_size = 3 #size of the 1D conv. layer\n",
        "hidden_dims = 250 # number of dimensions\n",
        "epochs = 2\n",
        "\n",
        "# set parameters:\n",
        "max_features = 1000 # max number of words in the corpus\n",
        "maxlen = 400 # max number of words in the review\n",
        "\n",
        "MAX_SEQUENCE_LENGTH = 5000 # MAX NUMBER OF WORDS IN THE CORPUS \n",
        "MAX_NB_WORDS = 50000 #MAX NUMBER OF WORDS IN THE REVIEW \n",
        "#EMBEDDING_DIM = 100\n",
        "VALIDATION_SPLIT = 0.2"
      ],
      "execution_count": 0,
      "outputs": []
    },
    {
      "cell_type": "code",
      "metadata": {
        "id": "uuunfhfD09JP",
        "colab_type": "code",
        "outputId": "d2715219-1dc2-4eda-b9b4-583876323546",
        "colab": {}
      },
      "source": [
        "texts=NNinput.Text\n",
        "MAX_NB_WORDS=1000\n",
        "tokenizer = Tokenizer(num_words=MAX_NB_WORDS)\n",
        "tokenizer.fit_on_texts(texts)\n",
        "sequences = tokenizer.texts_to_sequences(texts)\n",
        "\n",
        "word_index = tokenizer.word_index\n",
        "print('Number of Unique Tokens',len(word_index))\n"
      ],
      "execution_count": 0,
      "outputs": [
        {
          "output_type": "stream",
          "text": [
            "Number of Unique Tokens 159178\n"
          ],
          "name": "stdout"
        }
      ]
    },
    {
      "cell_type": "code",
      "metadata": {
        "id": "7Rs8hR5Y09JT",
        "colab_type": "code",
        "colab": {}
      },
      "source": [
        "max_features=len(tokenizer.word_index)+1"
      ],
      "execution_count": 0,
      "outputs": []
    },
    {
      "cell_type": "code",
      "metadata": {
        "id": "CG5oDiCN09JX",
        "colab_type": "code",
        "outputId": "a6f512b4-8ff5-4ec3-9570-fc795d1ddc6d",
        "colab": {}
      },
      "source": [
        "max_features"
      ],
      "execution_count": 0,
      "outputs": [
        {
          "output_type": "execute_result",
          "data": {
            "text/plain": [
              "159179"
            ]
          },
          "metadata": {
            "tags": []
          },
          "execution_count": 23
        }
      ]
    },
    {
      "cell_type": "code",
      "metadata": {
        "id": "yFEH3yAe09Jy",
        "colab_type": "code",
        "outputId": "51a288ec-a925-4dd1-c217-f19fd4b61e66",
        "colab": {}
      },
      "source": [
        "print('The longest string is: ',int(NNinput['Text'].str.encode(encoding='utf-8').str.len().max()))"
      ],
      "execution_count": 0,
      "outputs": [
        {
          "output_type": "stream",
          "text": [
            "The longest string is:  222963\n"
          ],
          "name": "stdout"
        }
      ]
    },
    {
      "cell_type": "code",
      "metadata": {
        "id": "euO0TZ-l09J8",
        "colab_type": "code",
        "outputId": "50a22982-7876-40d0-906f-c10857681273",
        "colab": {}
      },
      "source": [
        "NNinput.iloc[:, 1:2]"
      ],
      "execution_count": 0,
      "outputs": [
        {
          "output_type": "execute_result",
          "data": {
            "text/html": [
              "<div>\n",
              "<style scoped>\n",
              "    .dataframe tbody tr th:only-of-type {\n",
              "        vertical-align: middle;\n",
              "    }\n",
              "\n",
              "    .dataframe tbody tr th {\n",
              "        vertical-align: top;\n",
              "    }\n",
              "\n",
              "    .dataframe thead th {\n",
              "        text-align: right;\n",
              "    }\n",
              "</style>\n",
              "<table border=\"1\" class=\"dataframe\">\n",
              "  <thead>\n",
              "    <tr style=\"text-align: right;\">\n",
              "      <th></th>\n",
              "      <th>HelpfulnessPercentage</th>\n",
              "    </tr>\n",
              "  </thead>\n",
              "  <tbody>\n",
              "    <tr>\n",
              "      <td>0</td>\n",
              "      <td>1.0</td>\n",
              "    </tr>\n",
              "    <tr>\n",
              "      <td>1</td>\n",
              "      <td>0.0</td>\n",
              "    </tr>\n",
              "    <tr>\n",
              "      <td>2</td>\n",
              "      <td>1.0</td>\n",
              "    </tr>\n",
              "    <tr>\n",
              "      <td>3</td>\n",
              "      <td>1.0</td>\n",
              "    </tr>\n",
              "    <tr>\n",
              "      <td>4</td>\n",
              "      <td>0.0</td>\n",
              "    </tr>\n",
              "    <tr>\n",
              "      <td>...</td>\n",
              "      <td>...</td>\n",
              "    </tr>\n",
              "    <tr>\n",
              "      <td>67619</td>\n",
              "      <td>0.0</td>\n",
              "    </tr>\n",
              "    <tr>\n",
              "      <td>67620</td>\n",
              "      <td>1.0</td>\n",
              "    </tr>\n",
              "    <tr>\n",
              "      <td>67621</td>\n",
              "      <td>0.0</td>\n",
              "    </tr>\n",
              "    <tr>\n",
              "      <td>67622</td>\n",
              "      <td>1.0</td>\n",
              "    </tr>\n",
              "    <tr>\n",
              "      <td>67623</td>\n",
              "      <td>0.0</td>\n",
              "    </tr>\n",
              "  </tbody>\n",
              "</table>\n",
              "<p>67624 rows × 1 columns</p>\n",
              "</div>"
            ],
            "text/plain": [
              "       HelpfulnessPercentage\n",
              "0                        1.0\n",
              "1                        0.0\n",
              "2                        1.0\n",
              "3                        1.0\n",
              "4                        0.0\n",
              "...                      ...\n",
              "67619                    0.0\n",
              "67620                    1.0\n",
              "67621                    0.0\n",
              "67622                    1.0\n",
              "67623                    0.0\n",
              "\n",
              "[67624 rows x 1 columns]"
            ]
          },
          "metadata": {
            "tags": []
          },
          "execution_count": 25
        }
      ]
    },
    {
      "cell_type": "code",
      "metadata": {
        "id": "I1kvMHfM09KG",
        "colab_type": "code",
        "colab": {}
      },
      "source": [
        "from sklearn.model_selection import train_test_split\n",
        "from scipy.sparse import hstack, csr_matrix\n",
        "MAX_SEQUENCE_LENGTH=1000\n",
        "Xtvec = pad_sequences(sequences, maxlen=MAX_SEQUENCE_LENGTH)\n",
        "traindex=NNinput.index\n",
        "X = hstack([csr_matrix(NNinput.iloc[traindex,1:2].values),Xtvec[0:traindex.shape[0]]])\n",
        "y = NNinput.iloc[:, -1]\n",
        "X_train, X_test, y_train, y_test = train_test_split(X, y, test_size=0.2, random_state=16)\n"
      ],
      "execution_count": 0,
      "outputs": []
    },
    {
      "cell_type": "code",
      "metadata": {
        "id": "PBpg6jVz09KS",
        "colab_type": "code",
        "outputId": "4a7a7066-d606-4732-a5e3-dabc5792b2a8",
        "colab": {}
      },
      "source": [
        "!pip install utils"
      ],
      "execution_count": 0,
      "outputs": [
        {
          "output_type": "stream",
          "text": [
            "Requirement already satisfied: utils in c:\\users\\liewm\\anaconda3\\envs\\tensorflow_cpu\\lib\\site-packages (0.9.0)\n"
          ],
          "name": "stdout"
        }
      ]
    },
    {
      "cell_type": "code",
      "metadata": {
        "id": "DIRS0zHE09KY",
        "colab_type": "code",
        "outputId": "9e5fb3d3-8dae-438e-fcce-8745c1439699",
        "colab": {}
      },
      "source": [
        "X_test"
      ],
      "execution_count": 0,
      "outputs": [
        {
          "output_type": "execute_result",
          "data": {
            "text/plain": [
              "<13525x1001 sparse matrix of type '<class 'numpy.float64'>'\n",
              "\twith 1587102 stored elements in Compressed Sparse Row format>"
            ]
          },
          "metadata": {
            "tags": []
          },
          "execution_count": 28
        }
      ]
    },
    {
      "cell_type": "markdown",
      "metadata": {
        "id": "RULeT0DV09Kd",
        "colab_type": "text"
      },
      "source": [
        "# 1 Dimensional CNN\n",
        "- Input : Word Embedding, Helpfulness Percentage \n",
        "- Output : Recommended or not "
      ]
    },
    {
      "cell_type": "code",
      "metadata": {
        "id": "Ra-0_Rd109Ke",
        "colab_type": "code",
        "outputId": "a7260b82-12b3-47dc-bcdf-cd6ce9f41a8c",
        "colab": {}
      },
      "source": [
        "print('Build model...')\n",
        "model = Sequential()\n",
        "\n",
        "#MAX_SEQUENCE_LENGTH=1000\n",
        "#embedding_dims=50\n",
        "#max_features=159179\n",
        "\n",
        "# we start off with an efficient embedding layer which maps\n",
        "# our vocab indices into embedding_dims dimensions\n",
        "model.add(Embedding(max_features,\n",
        "                    embedding_dims,\n",
        "                    input_length=MAX_SEQUENCE_LENGTH+1))\n",
        "model.add(Dropout(0.2))\n",
        "\n",
        "# we add a Convolution1D, which will learn filters\n",
        "# word group filters of size filter_length:\n",
        "model.add(Conv1D(filters,\n",
        "                 kernel_size,\n",
        "                 padding='valid',\n",
        "                 activation='relu',\n",
        "                 strides=1))\n",
        "# we use max pooling:\n",
        "model.add(GlobalMaxPooling1D())\n",
        "\n",
        "# We add a vanilla hidden layer:\n",
        "model.add(Dense(hidden_dims))\n",
        "model.add(Dropout(0.2))\n",
        "model.add(Activation('relu'))\n",
        "\n",
        "# We project onto a single unit output layer, and squash it with a sigmoid:\n",
        "model.add(Dense(1))\n",
        "model.add(Activation('sigmoid'))\n",
        "\n",
        "model.compile(loss='binary_crossentropy',\n",
        "              optimizer='adam',\n",
        "              metrics=['accuracy'])\n",
        "# model.fit(x_train, y_train,\n",
        "#           batch_size=batch_size,\n",
        "#           epochs=epochs,\n",
        "#           validation_data=(x_test, y_test))\n",
        "\n",
        "epochs = 5\n",
        "batch_size = 64\n",
        "\n",
        "history = model.fit(X_train, y_train, epochs=epochs, batch_size=batch_size,validation_split=0.2,\\\n",
        "                    callbacks=[EarlyStopping(monitor='val_loss', patience=3, min_delta=0.0001)])\n",
        "\n",
        "\n"
      ],
      "execution_count": 0,
      "outputs": [
        {
          "output_type": "stream",
          "text": [
            "Build model...\n",
            "Train on 43279 samples, validate on 10820 samples\n",
            "Epoch 1/5\n",
            "43279/43279 [==============================] - 1853s 43ms/step - loss: 0.4710 - acc: 0.8078 - val_loss: 0.4021 - val_acc: 0.8350\n",
            "Epoch 2/5\n",
            "43279/43279 [==============================] - 1790s 41ms/step - loss: 0.3746 - acc: 0.8393 - val_loss: 0.3468 - val_acc: 0.8547\n",
            "Epoch 3/5\n",
            "43279/43279 [==============================] - 1812s 42ms/step - loss: 0.3410 - acc: 0.8550 - val_loss: 0.3298 - val_acc: 0.8619\n",
            "Epoch 4/5\n",
            "43279/43279 [==============================] - 1820s 42ms/step - loss: 0.3261 - acc: 0.8604 - val_loss: 0.3298 - val_acc: 0.8624\n",
            "Epoch 5/5\n",
            "43279/43279 [==============================] - 1808s 42ms/step - loss: 0.3155 - acc: 0.8660 - val_loss: 0.3280 - val_acc: 0.8618\n"
          ],
          "name": "stdout"
        }
      ]
    },
    {
      "cell_type": "code",
      "metadata": {
        "id": "QYyiE6F509Kh",
        "colab_type": "code",
        "outputId": "252833f9-82bb-49d3-a110-e1bc50312aed",
        "colab": {}
      },
      "source": [
        "from sklearn.metrics import confusion_matrix\n",
        "from sklearn.metrics import roc_curve\n",
        "import utils \n",
        "import pandas as pd\n",
        "import seaborn as sns\n",
        "import matplotlib.pyplot as plt\n",
        "from sklearn.metrics import auc\n",
        "# We are evaluating the model from accuracy rate.\n",
        "scores = model.evaluate(X_train, y_train, verbose=False)\n",
        "print(\"Training Accuracy: %.2f%%\\n\" % (scores[1]*100))\n",
        "scores = model.evaluate(X_test, y_test, verbose=False)\n",
        "print(\"Testing Accuracy: %.2f%%\\n\" % (scores[1]*100))\n",
        "\n",
        "# Results - Confusion Matrix\n",
        "y_test_pred = model.predict_classes(X_test)\n",
        "c_matrix = confusion_matrix(y_test, y_test_pred)\n",
        "ax = sns.heatmap(c_matrix, annot=True, xticklabels=['No Recommendation', 'Recommendation'], yticklabels=['No Recommendation', 'Recommendation'], cbar=False, cmap='Blues')\n",
        "ax.set_xlabel(\"Prediction\")\n",
        "ax.set_ylabel(\"Actual\")\n",
        "plt.show()\n",
        "plt.clf()\n",
        "\n",
        "# Results - ROC Curve\n",
        "y_test_pred_probs = model.predict(X_test)\n",
        "FPR, TPR, _ = roc_curve(y_test, y_test_pred_probs)\n",
        "roc_auc = auc(FPR, TPR)\n",
        "plt.plot(FPR, TPR)\n",
        "#Plot ROC\n",
        "\n",
        "plt.title('Receiver Operating Characteristic')\n",
        "plt.plot(FPR, TPR, 'b', label = 'AUC = %0.2f' % roc_auc)\n",
        "plt.legend(loc = 'lower right')\n",
        "plt.plot([0, 1], [0, 1],'r--')\n",
        "plt.xlim([0, 1])\n",
        "plt.ylim([0, 1])\n",
        "plt.ylabel('True Positive Rate')\n",
        "plt.xlabel('False Positive Rate')\n",
        "plt.show()"
      ],
      "execution_count": 0,
      "outputs": [
        {
          "output_type": "stream",
          "text": [
            "Training Accuracy: 87.07%\n",
            "\n",
            "Testing Accuracy: 85.83%\n",
            "\n"
          ],
          "name": "stdout"
        },
        {
          "output_type": "display_data",
          "data": {
            "image/png": "[encoded data removed]",
            "text/plain": [
              "<Figure size 432x288 with 1 Axes>"
            ]
          },
          "metadata": {
            "tags": [],
            "needs_background": "light"
          }
        },
        {
          "output_type": "display_data",
          "data": {
            "image/png": "[encoded data removed]",
            "text/plain": [
              "<Figure size 432x288 with 1 Axes>"
            ]
          },
          "metadata": {
            "tags": [],
            "needs_background": "light"
          }
        }
      ]
    },
    {
      "cell_type": "code",
      "metadata": {
        "id": "BcQ92ZyI09Kk",
        "colab_type": "code",
        "outputId": "29aae6c3-2d67-41c8-8fe8-e7b9c335fa15",
        "colab": {}
      },
      "source": [
        "fig1 = plt.figure()\n",
        "plt.plot(history.history['loss'],'r',linewidth=3.0)\n",
        "plt.plot(history.history['val_loss'],'b',linewidth=3.0)\n",
        "plt.legend(['Training loss', 'Validation Loss'],fontsize=18)\n",
        "plt.xlabel('Epochs ',fontsize=16)\n",
        "plt.ylabel('Loss',fontsize=16)\n",
        "plt.title('Loss Curves :CNN',fontsize=16)\n",
        "fig1.savefig('loss_cnn.png')\n",
        "plt.show()"
      ],
      "execution_count": 0,
      "outputs": [
        {
          "output_type": "display_data",
          "data": {
            "image/png": "[encoded data removed]",
            "text/plain": [
              "<Figure size 432x288 with 1 Axes>"
            ]
          },
          "metadata": {
            "tags": [],
            "needs_background": "light"
          }
        }
      ]
    },
    {
      "cell_type": "code",
      "metadata": {
        "id": "rjeoeeo809Km",
        "colab_type": "code",
        "outputId": "7678b4ff-e68c-4144-c5b3-1e79b71ca487",
        "colab": {}
      },
      "source": [
        "fig2=plt.figure()\n",
        "plt.plot(history.history['acc'],'r',linewidth=3.0)\n",
        "plt.plot(history.history['val_acc'],'b',linewidth=3.0)\n",
        "plt.legend(['Training Accuracy', 'Validation Accuracy'],fontsize=18)\n",
        "plt.xlabel('Epochs ',fontsize=16)\n",
        "plt.ylabel('Accuracy',fontsize=16)\n",
        "plt.title('Accuracy Curves : CNN',fontsize=16)\n",
        "fig2.savefig('accuracy_cnn.png')\n",
        "plt.show()"
      ],
      "execution_count": 0,
      "outputs": [
        {
          "output_type": "display_data",
          "data": {
            "image/png": "[encoded data removed]",
            "text/plain": [
              "<Figure size 432x288 with 1 Axes>"
            ]
          },
          "metadata": {
            "tags": [],
            "needs_background": "light"
          }
        }
      ]
    },
    {
      "cell_type": "code",
      "metadata": {
        "id": "HUzMF23r09Kp",
        "colab_type": "code",
        "outputId": "328b0f62-f04d-4bb0-d008-519a4746dc69",
        "colab": {}
      },
      "source": [
        "c_matrix"
      ],
      "execution_count": 0,
      "outputs": [
        {
          "output_type": "execute_result",
          "data": {
            "text/plain": [
              "array([[ 1057,  1553],\n",
              "       [  364, 10551]], dtype=int64)"
            ]
          },
          "metadata": {
            "tags": []
          },
          "execution_count": 35
        }
      ]
    },
    {
      "cell_type": "code",
      "metadata": {
        "id": "irm2CP-u09Ks",
        "colab_type": "code",
        "outputId": "986e5566-e00e-4de3-ee65-8c12fee8d61b",
        "colab": {}
      },
      "source": [
        "model.summary()"
      ],
      "execution_count": 0,
      "outputs": [
        {
          "output_type": "stream",
          "text": [
            "_________________________________________________________________\n",
            "Layer (type)                 Output Shape              Param #   \n",
            "=================================================================\n",
            "embedding (Embedding)        (None, 1001, 50)          7958950   \n",
            "_________________________________________________________________\n",
            "dropout (Dropout)            (None, 1001, 50)          0         \n",
            "_________________________________________________________________\n",
            "conv1d (Conv1D)              (None, 999, 250)          37750     \n",
            "_________________________________________________________________\n",
            "global_max_pooling1d (Global (None, 250)               0         \n",
            "_________________________________________________________________\n",
            "dense (Dense)                (None, 250)               62750     \n",
            "_________________________________________________________________\n",
            "dropout_1 (Dropout)          (None, 250)               0         \n",
            "_________________________________________________________________\n",
            "activation (Activation)      (None, 250)               0         \n",
            "_________________________________________________________________\n",
            "dense_1 (Dense)              (None, 1)                 251       \n",
            "_________________________________________________________________\n",
            "activation_1 (Activation)    (None, 1)                 0         \n",
            "=================================================================\n",
            "Total params: 8,059,701\n",
            "Trainable params: 8,059,701\n",
            "Non-trainable params: 0\n",
            "_________________________________________________________________\n"
          ],
          "name": "stdout"
        }
      ]
    },
    {
      "cell_type": "code",
      "metadata": {
        "id": "nsZtFdct09Kv",
        "colab_type": "code",
        "colab": {}
      },
      "source": [
        ""
      ],
      "execution_count": 0,
      "outputs": []
    }
  ]
}